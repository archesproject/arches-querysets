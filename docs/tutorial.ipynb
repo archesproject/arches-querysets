{
 "cells": [
  {
   "cell_type": "markdown",
   "id": "f98d7674",
   "metadata": {},
   "source": [
    "### Arches QuerySets tutorial\n",
    "\n",
    "This tutorial shows the approach `arches-querysets` uses to adapt the Arches data model to the Django ORM (and thus the rest of the Django ecosystem)."
   ]
  },
  {
   "cell_type": "markdown",
   "id": "76f026eb",
   "metadata": {},
   "source": [
    "#### Test data\n",
    "In this tutorial, we'll use a sample resource model called \"Datatype Lookups\". Set up the test data. You should replace the settings module below with the one you wish to use for this tutorial. Run `manage.py setup_db` first if necessary. (This is not included in the notebook out of caution.)"
   ]
  },
  {
   "cell_type": "code",
   "execution_count": 1,
   "id": "811ae4ec",
   "metadata": {},
   "outputs": [
    {
     "name": "stdout",
     "output_type": "stream",
     "text": [
      "Deleting test data...\n",
      "Finished!\n",
      "Creating test data...\n",
      "Finished!\n"
     ]
    }
   ],
   "source": [
    "import os\n",
    "\n",
    "import django\n",
    "from django.core.management import call_command\n",
    "\n",
    "# Simulate manage.py\n",
    "os.environ[\"DJANGO_SETTINGS_MODULE\"] = \"arches_querysets.settings\"\n",
    "os.environ[\"DJANGO_ALLOW_ASYNC_UNSAFE\"] = \"true\"\n",
    "django.setup()\n",
    "\n",
    "call_command(\"delete_test_data\")\n",
    "call_command(\"add_test_data\")"
   ]
  },
  {
   "cell_type": "code",
   "execution_count": 3,
   "id": "885342b8",
   "metadata": {},
   "outputs": [
    {
     "name": "stdout",
     "output_type": "stream",
     "text": [
      "AliasedData(datatypes_1=<TileTree: datatypes_1 (15459169-79b0-47a8-9cc3-cddbfb849298)>, datatypes_n=[<TileTree: datatypes_n (dad5c8eb-4f4f-4f69-887d-1e959589b255)>])\n",
      "AliasedData(concept_alias=<Value: Value object (d8c60bf4-e786-11e6-905a-b756ec83dad5)>, geojson_feature_collection_alias=None, concept_list_alias=[<Value: Value object (d8c60bf4-e786-11e6-905a-b756ec83dad5)>], number_alias=42, resource_instance_alias=<ResourceInstance: Datatype Lookups: Resource referencing 42 (d19bbde5-a8ac-40c3-af46-96e375e322ed)>, resource_instance_list_alias=[<ResourceInstance: Datatype Lookups: Resource referencing 42 (d19bbde5-a8ac-40c3-af46-96e375e322ed)>], file_list_alias=[{'url': 'http://www.archesproject.org/blog/static/42.png', 'name': '42_accessibility_improvements.png', 'size': 2042, 'type': 'image/png', 'index': 0, 'title': {'en': {'value': '42 Accessibility Improvements', 'direction': 'ltr'}}, 'width': 2042, 'height': 2042, 'status': 'added', 'altText': {'en': {'value': 'Illustration of recent accessibility improvements', 'direction': 'ltr'}}, 'content': 'blob:http://localhost:8000/13451b85-147d-4b4f-8a14-9f8f3ea3eb4a', 'file_id': 'fd6d01a5-5f61-405c-9b63-6bb21c3057a2', 'accepted': True, 'attribution': {'en': {'value': 'Arches', 'direction': 'ltr'}}, 'description': {'en': {'value': 'Recent versions of arches have 42 improved accessibility characteristics.', 'direction': 'ltr'}}, 'lastModified': 1723503486969}], date_alias='2042-04-02', string_alias={'en': {'value': 'forty-two', 'direction': 'ltr'}}, domain_value_alias=None, domain_value_list_alias=None, boolean_alias=True, annotation_alias=None, edtf_alias=None, url_alias={'url': 'http://www.42.com/', 'url_label': '42.com'}, non_localized_string_alias='forty-two', node_value_alias='15459169-79b0-47a8-9cc3-cddbfb849298', datatypes_1_child=<TileTree: datatypes_1_child (11b07fbb-6f91-4bf7-9b1a-738e6f44c9ad)>)\n"
     ]
    }
   ],
   "source": [
    "from arches_querysets.models import *\n",
    "\n",
    "resource = ResourceTileTree.get_tiles(graph_slug=\"datatype_lookups\").exclude(url_alias=None).get()\n",
    "print(resource.aliased_data)\n",
    "print(resource.aliased_data.datatypes_1.aliased_data)"
   ]
  },
  {
   "cell_type": "code",
   "execution_count": null,
   "id": "be132863",
   "metadata": {},
   "outputs": [],
   "source": []
  },
  {
   "cell_type": "code",
   "execution_count": 5,
   "id": "bf386781",
   "metadata": {},
   "outputs": [
    {
     "name": "stdout",
     "output_type": "stream",
     "text": [
      "AliasedData(datatypes_1=<TileTree: datatypes_1 (15459169-79b0-47a8-9cc3-cddbfb849298)>,\n",
      "            datatypes_n=[<TileTree: datatypes_n (dad5c8eb-4f4f-4f69-887d-1e959589b255)>])\n",
      "AliasedData(concept_alias={'details': [{'concept_id': '00000000-0000-0000-0000-000000000001',\n",
      "                                        'language_id': 'en',\n",
      "                                        'value': 'Arches',\n",
      "                                        'valueid': 'd8c60bf4-e786-11e6-905a-b756ec83dad5',\n",
      "                                        'valuetype_id': 'prefLabel'}],\n",
      "                           'display_value': 'Arches',\n",
      "                           'node_value': 'd8c60bf4-e786-11e6-905a-b756ec83dad5'},\n",
      "            geojson_feature_collection_alias={'details': [],\n",
      "                                              'display_value': '(Empty)',\n",
      "                                              'node_value': None},\n",
      "            concept_list_alias={'details': [{'concept_id': '00000000-0000-0000-0000-000000000001',\n",
      "                                             'language_id': 'en',\n",
      "                                             'value': 'Arches',\n",
      "                                             'valueid': 'd8c60bf4-e786-11e6-905a-b756ec83dad5',\n",
      "                                             'valuetype_id': 'prefLabel'}],\n",
      "                                'display_value': 'Arches',\n",
      "                                'node_value': ['d8c60bf4-e786-11e6-905a-b756ec83dad5']},\n",
      "            number_alias={'details': [],\n",
      "                          'display_value': '42',\n",
      "                          'node_value': 42},\n",
      "            resource_instance_alias={'details': [{'display_value': 'Resource '\n",
      "                                                                   'referencing '\n",
      "                                                                   '42',\n",
      "                                                  'resource_id': 'd19bbde5-a8ac-40c3-af46-96e375e322ed'}],\n",
      "                                     'display_value': 'Resource referencing 42',\n",
      "                                     'node_value': [{'inverseOntologyProperty': '',\n",
      "                                                     'ontologyProperty': '',\n",
      "                                                     'resourceId': 'd19bbde5-a8ac-40c3-af46-96e375e322ed'}]},\n",
      "            resource_instance_list_alias={'details': [{'display_value': 'Resource '\n",
      "                                                                        'referencing '\n",
      "                                                                        '42',\n",
      "                                                       'resource_id': 'd19bbde5-a8ac-40c3-af46-96e375e322ed'}],\n",
      "                                          'display_value': 'Resource '\n",
      "                                                           'referencing 42',\n",
      "                                          'node_value': [{'inverseOntologyProperty': '',\n",
      "                                                          'ontologyProperty': '',\n",
      "                                                          'resourceId': 'd19bbde5-a8ac-40c3-af46-96e375e322ed'}]},\n",
      "            file_list_alias={'details': [],\n",
      "                             'display_value': 'http://www.archesproject.org/blog/static/42.png',\n",
      "                             'node_value': [{'accepted': True,\n",
      "                                             'altText': {'en': {'direction': 'ltr',\n",
      "                                                                'value': 'Illustration '\n",
      "                                                                         'of '\n",
      "                                                                         'recent '\n",
      "                                                                         'accessibility '\n",
      "                                                                         'improvements'}},\n",
      "                                             'attribution': {'en': {'direction': 'ltr',\n",
      "                                                                    'value': 'Arches'}},\n",
      "                                             'content': 'blob:http://localhost:8000/13451b85-147d-4b4f-8a14-9f8f3ea3eb4a',\n",
      "                                             'description': {'en': {'direction': 'ltr',\n",
      "                                                                    'value': 'Recent '\n",
      "                                                                             'versions '\n",
      "                                                                             'of '\n",
      "                                                                             'arches '\n",
      "                                                                             'have '\n",
      "                                                                             '42 '\n",
      "                                                                             'improved '\n",
      "                                                                             'accessibility '\n",
      "                                                                             'characteristics.'}},\n",
      "                                             'file_id': 'fd6d01a5-5f61-405c-9b63-6bb21c3057a2',\n",
      "                                             'height': 2042,\n",
      "                                             'index': 0,\n",
      "                                             'lastModified': 1723503486969,\n",
      "                                             'name': '42_accessibility_improvements.png',\n",
      "                                             'size': 2042,\n",
      "                                             'status': 'added',\n",
      "                                             'title': {'en': {'direction': 'ltr',\n",
      "                                                              'value': '42 '\n",
      "                                                                       'Accessibility '\n",
      "                                                                       'Improvements'}},\n",
      "                                             'type': 'image/png',\n",
      "                                             'url': 'http://www.archesproject.org/blog/static/42.png',\n",
      "                                             'width': 2042}]},\n",
      "            date_alias={'details': [],\n",
      "                        'display_value': '2042-04-02',\n",
      "                        'node_value': '2042-04-02'},\n",
      "            string_alias={'details': [],\n",
      "                          'display_value': 'forty-two',\n",
      "                          'node_value': {'en': {'direction': 'ltr',\n",
      "                                                'value': 'forty-two'}}},\n",
      "            domain_value_alias={'details': [],\n",
      "                                'display_value': '(Empty)',\n",
      "                                'node_value': None},\n",
      "            domain_value_list_alias={'details': [],\n",
      "                                     'display_value': '(Empty)',\n",
      "                                     'node_value': None},\n",
      "            boolean_alias={'details': [],\n",
      "                           'display_value': 'True',\n",
      "                           'node_value': True},\n",
      "            annotation_alias={'details': [],\n",
      "                              'display_value': '(Empty)',\n",
      "                              'node_value': None},\n",
      "            edtf_alias={'details': [],\n",
      "                        'display_value': '(Empty)',\n",
      "                        'node_value': None},\n",
      "            url_alias={'details': [],\n",
      "                       'display_value': '{\"url\": \"http://www.42.com/\", '\n",
      "                                        '\"url_label\": \"42.com\"}',\n",
      "                       'node_value': {'url': 'http://www.42.com/',\n",
      "                                      'url_label': '42.com'}},\n",
      "            non_localized_string_alias={'details': [],\n",
      "                                        'display_value': 'forty-two',\n",
      "                                        'node_value': 'forty-two'},\n",
      "            node_value_alias={'details': [],\n",
      "                              'display_value': '2042-04-02',\n",
      "                              'node_value': '15459169-79b0-47a8-9cc3-cddbfb849298'},\n",
      "            datatypes_1_child=<TileTree: datatypes_1_child (11b07fbb-6f91-4bf7-9b1a-738e6f44c9ad)>)\n"
     ]
    }
   ],
   "source": [
    "resource = ResourceTileTree.get_tiles(\n",
    "    graph_slug=\"datatype_lookups\", as_representation=True\n",
    ").exclude(url_alias=None).get()\n",
    "\n",
    "from pprint import pprint\n",
    "pprint(resource.aliased_data)\n",
    "pprint(resource.aliased_data.datatypes_1.aliased_data)"
   ]
  },
  {
   "cell_type": "code",
   "execution_count": 6,
   "id": "7c098fc8",
   "metadata": {},
   "outputs": [
    {
     "data": {
      "text/plain": [
       "{'node_value': {'en': {'value': 'forty-two', 'direction': 'ltr'}},\n",
       " 'display_value': 'forty-two',\n",
       " 'details': []}"
      ]
     },
     "execution_count": 6,
     "metadata": {},
     "output_type": "execute_result"
    }
   ],
   "source": [
    "test_resources = ResourceTileTree.get_tiles(\"datatype_lookups\", as_representation=True)\n",
    "# This \"shallow\" lookup works whether or not the node is nested (todo: add test case)\n",
    "resource = test_resources.filter(string_alias__any_lang_contains=\"forty\").first()\n",
    "resource.aliased_data.datatypes_1.aliased_data.string_alias"
   ]
  },
  {
   "cell_type": "code",
   "execution_count": 7,
   "id": "109f66c0",
   "metadata": {},
   "outputs": [
    {
     "data": {
      "text/plain": [
       "{'2': {'value': {'00091961-24b0-43c2-9169-b7b77ff898bd': None,\n",
       "   '039bdb19-7a21-463a-9308-9101b072f07a': ['d8c60bf4-e786-11e6-905a-b756ec83dad5'],\n",
       "   '35d7f2a3-471a-441d-8524-034f3096343d': [{'resourceId': 'd19bbde5-a8ac-40c3-af46-96e375e322ed',\n",
       "     'ontologyProperty': '',\n",
       "     'resourceXresourceId': '0717484e-9f65-4a2d-93e3-edbbbfaca0ed',\n",
       "     'inverseOntologyProperty': ''}],\n",
       "   '368c027d-628c-448f-8e60-e83780ea74fe': [{'resourceId': 'd19bbde5-a8ac-40c3-af46-96e375e322ed',\n",
       "     'ontologyProperty': '',\n",
       "     'resourceXresourceId': 'e9f3a337-600a-41a0-bf86-fee797c8327b',\n",
       "     'inverseOntologyProperty': ''}],\n",
       "   '4130e176-64e3-4b10-b0fb-5a2fad7bb19a': '15459169-79b0-47a8-9cc3-cddbfb849298',\n",
       "   '5785a336-b6d0-4046-85df-31d329779502': {'url': 'http://www.42.com/',\n",
       "    'url_label': '42.com'},\n",
       "   '5a1e1c7d-18df-45e3-b3c9-551f18b0c751': 'forty-two',\n",
       "   '7a98f64a-6db7-4069-9790-97bc0bf56d2a': [{'url': '/files/588263f6-4aec-4581-a0c2-f05c2b6c8f0a',\n",
       "     'name': '42_accessibility_improvements.png',\n",
       "     'type': 'image/png',\n",
       "     'status': 'uploaded',\n",
       "     'file_id': '588263f6-4aec-4581-a0c2-f05c2b6c8f0a',\n",
       "     'accepted': True,\n",
       "     'renderer': '5e05aa2e-5db0-4922-8938-b4d2b7919733'}],\n",
       "   '82e7831e-095a-4f49-b967-7872c7043b69': True,\n",
       "   'a5b6f009-95c5-4c3d-a02e-ae4d6ad1105e': 42,\n",
       "   'b9a8f2a8-45e0-4685-88c3-0a70b97c70c9': 'd8c60bf4-e786-11e6-905a-b756ec83dad5',\n",
       "   'bcfe046a-68c7-44f6-9030-7f470d044acb': None,\n",
       "   'c8c93f85-fd6c-4b1b-84b1-497cee8df4cd': None,\n",
       "   'ddd003c9-9fd0-4d6b-b543-d0091285084d': '2042-04-02T00:00:00.000-05:00',\n",
       "   'eaeef0f4-ab5b-4e52-9af3-0d151c52783f': None,\n",
       "   'f1f9d885-ac3b-458e-a805-8ace5a50136b': None,\n",
       "   'fe57bdab-83d3-4a2e-a101-30d599ab5548': {'en': {'value': 'forty-three',\n",
       "     'direction': 'ltr'}}},\n",
       "  'action': 'create',\n",
       "  'status': 'review',\n",
       "  'reviewer': None,\n",
       "  'timestamp': '2025-08-20T13:57:40.333196Z',\n",
       "  'reviewtimestamp': None}}"
      ]
     },
     "execution_count": 7,
     "metadata": {},
     "output_type": "execute_result"
    }
   ],
   "source": [
    "# You can save back with or without the display value / node_value wrapper\n",
    "resource.aliased_data.datatypes_1.aliased_data.string_alias = 'forty-three'\n",
    "resource.save()\n",
    "# But without a request, we assume anonymous user, and it ends up in provisional edits\n",
    "resource.aliased_data.datatypes_1.provisionaledits"
   ]
  },
  {
   "cell_type": "code",
   "execution_count": 8,
   "id": "12d87ba8",
   "metadata": {},
   "outputs": [
    {
     "data": {
      "text/plain": [
       "{'node_value': {'en': {'value': 'forty-three', 'direction': 'ltr'}},\n",
       " 'display_value': 'forty-three',\n",
       " 'details': []}"
      ]
     },
     "execution_count": 8,
     "metadata": {},
     "output_type": "execute_result"
    }
   ],
   "source": [
    "resource.aliased_data.datatypes_1.aliased_data.string_alias = 'forty-three'\n",
    "resource.save(force_admin=True)\n",
    "resource.aliased_data.datatypes_1.aliased_data.string_alias"
   ]
  },
  {
   "cell_type": "code",
   "execution_count": 9,
   "id": "86c4700f",
   "metadata": {},
   "outputs": [
    {
     "name": "stdout",
     "output_type": "stream",
     "text": [
      "Datatype Lookups: Resource referencing 42 (d19bbde5-a8ac-40c3-af46-96e375e322ed)\n"
     ]
    }
   ],
   "source": [
    "# Custom lookups\n",
    "resources = ResourceTileTree.get_tiles(\n",
    "    \"datatype_lookups\", as_representation=True\n",
    ").filter(string_alias__any_lang_contains=\"forty\")\n",
    "for match in resources:\n",
    "    print(match)"
   ]
  },
  {
   "cell_type": "code",
   "execution_count": 10,
   "id": "1330038a",
   "metadata": {},
   "outputs": [
    {
     "name": "stdout",
     "output_type": "stream",
     "text": [
      "Datatype Lookups: Resource referencing 42 (d19bbde5-a8ac-40c3-af46-96e375e322ed)\n"
     ]
    }
   ],
   "source": [
    "resources = ResourceTileTree.get_tiles(\n",
    "    \"datatype_lookups\", as_representation=True\n",
    ").filter(resource_instance_list_alias__contains=str(resource.pk))\n",
    "for match in resources:\n",
    "    print(match)"
   ]
  }
 ],
 "metadata": {
  "kernelspec": {
   "display_name": "py313",
   "language": "python",
   "name": "python3"
  },
  "language_info": {
   "codemirror_mode": {
    "name": "ipython",
    "version": 3
   },
   "file_extension": ".py",
   "mimetype": "text/x-python",
   "name": "python",
   "nbconvert_exporter": "python",
   "pygments_lexer": "ipython3",
   "version": "3.13.5"
  }
 },
 "nbformat": 4,
 "nbformat_minor": 5
}
