{
 "cells": [
  {
   "cell_type": "markdown",
   "id": "f98d7674",
   "metadata": {},
   "source": [
    "### Arches QuerySets tutorial\n",
    "\n",
    "This tutorial shows the approach `arches-querysets` uses to adapt the Arches data model to the Django ORM and the rest of the Django ecosystem."
   ]
  },
  {
   "cell_type": "markdown",
   "id": "76f026eb",
   "metadata": {},
   "source": [
    "#### Test data\n",
    "We'll use a sample resource model called \"Datatype Lookups\". Set up the test data. You should replace the settings module below with the one specifiying the database you wish to use for this tutorial. Run `manage.py setup_db` first if necessary. (This is not included in the notebook out of caution.)\n",
    "\n",
    ">[!TIP]\n",
    "> If you're having trouble, be sure your IDE has the python interpreter for your virtual environment selected."
   ]
  },
  {
   "cell_type": "code",
   "execution_count": 1,
   "id": "811ae4ec",
   "metadata": {},
   "outputs": [
    {
     "name": "stdout",
     "output_type": "stream",
     "text": [
      "Deleting test data...\n",
      "Finished!\n",
      "Creating test data...\n",
      "Finished!\n"
     ]
    }
   ],
   "source": [
    "import os\n",
    "\n",
    "import django\n",
    "from django.core.management import call_command\n",
    "\n",
    "# Simulate manage.py\n",
    "os.environ[\"DJANGO_SETTINGS_MODULE\"] = \"arches_querysets.settings\"\n",
    "os.environ[\"DJANGO_ALLOW_ASYNC_UNSAFE\"] = \"true\"\n",
    "django.setup()\n",
    "\n",
    "call_command(\"delete_test_data\")\n",
    "call_command(\"add_test_data\")"
   ]
  },
  {
   "cell_type": "markdown",
   "id": "b101d798",
   "metadata": {},
   "source": [
    "#### Design\n",
    "\n",
    "The system allows you to request resources and tiles with node values aliased by their node aliases, and with nested tiles nested under the alias for that child nodegroup's grouping node. This reflection of the `TileModel.data` attribute becomes a new attribute `aliased_data`.\n",
    "\n",
    "This is done by subclassing the `ResourceInstance` and `TileModel` models from core Arches. Because they provide methods to retrieve and query nested tiles, the names of the proxy models are:\n",
    "- `ResourceInstance` -> `ResourceTileTree`\n",
    "- `TileModel` -> `TileTree`\n",
    "\n",
    "> [!NOTE]\n",
    "> These models do not subclass the proxy models `Resource` and `Tile` from core Arches, because, like those models, these models have their own distinct approach for fetching data.\n",
    "\n",
    "In TypeScript notation, the nesting of data looks as follows:\n",
    "\n",
    "```ts\n",
    "interface ResourceTileTree {\n",
    "    aliased_data: AliasedData;\n",
    "    resourceinstanceid: string | null;\n",
    "    name: string;\n",
    "    // further resourceinstance fields...\n",
    "}\n",
    "\n",
    "interface TileTree {\n",
    "    aliased_data: AliasedData;\n",
    "    nodegroup: string;\n",
    "    parenttile: string | null;\n",
    "    provisionaledits: object | null;\n",
    "    resourceinstance: string;\n",
    "    sortorder: number;\n",
    "    tileid: string | null;\n",
    "}\n",
    "\n",
    "interface AliasedData {\n",
    "    [node_alias: string]: AliasedNodeData | AliasedNodegroupData;\n",
    "}\n",
    "\n",
    "interface AliasedNodeData {\n",
    "    display_value: string;\n",
    "    node_value: unknown;\n",
    "    details: unknown[];\n",
    "}\n",
    "\n",
    "type AliasedNodegroupData = TileTree | TileTree[] | null;\n",
    "```\n",
    "\n",
    "Of note:\n",
    "- The key-value pairs on any `AliasedData` representation will be a mixture of single nodes in the current nodegroup and nodegroup aliases for child nodegroups that unpack to nested tiles.\n",
    "- Cardinality-1 nodegroups will be represented as `null` or a `TileTree`.\n",
    "- Cardinality-n nodegroups will be represented as a possibly empty array of `TileTree`s.\n",
    "- Node values are always grouped under the alias of the grouping node for the nodegroup (\"nodegroup alias\"). That is, no data-collecting nodes appear will appear *directly* under the tile.\n",
    "- Node values are represented as an object of three key-value pairs. `display_value` and `details` are read-only."
   ]
  },
  {
   "cell_type": "markdown",
   "id": "43e6b4df",
   "metadata": {},
   "source": [
    "#### Entrypoint: get_tiles()\n",
    "\n",
    "The `ResourceTileTree` and `TileTree` models have [custom model managers](https://docs.djangoproject.com/en/5.2/topics/db/managers/#custom-managers) that encapsulate the custom querying behavior.\n",
    "\n",
    "They both provide a `get_tiles()` entrypoint. This method allows you to use node aliases as ORM lookups and tells the ORM how to shape the data once it is fetched.\n",
    "\n",
    "Query for the two test resources. One test resource has node values referencing the number 42 for most nodes; the other has a value of `None` in every node:"
   ]
  },
  {
   "cell_type": "code",
   "execution_count": 2,
   "id": "cfb7147d",
   "metadata": {},
   "outputs": [
    {
     "data": {
      "text/plain": [
       "<ResourceTileTreeQuerySet [<ResourceTileTree: Datatype Lookups: Resource referencing 42 (4d9cd2e0-1a08-4e8d-9606-58482c1f520a)>, <ResourceTileTree: Datatype Lookups: Resource referencing None (41a0cbc5-7d51-4260-bed6-7ab59417e535)>]>"
      ]
     },
     "execution_count": 2,
     "metadata": {},
     "output_type": "execute_result"
    }
   ],
   "source": [
    "from arches_querysets.models import *\n",
    "\n",
    "ResourceTileTree.get_tiles(graph_slug=\"datatype_lookups\")"
   ]
  },
  {
   "cell_type": "markdown",
   "id": "771a7530",
   "metadata": {},
   "source": [
    "Filter on node alias values to exclude the resource with only None for node values. The node aliases for the test model follow this pattern:\n",
    "- number_alias_1\n",
    "- number_alias_n\n",
    "- number_alias_1_child\n",
    "- number_alias_n_child"
   ]
  },
  {
   "cell_type": "code",
   "execution_count": 3,
   "id": "885342b8",
   "metadata": {},
   "outputs": [
    {
     "name": "stdout",
     "output_type": "stream",
     "text": [
      "AliasedData(datatypes_1=<TileTree: datatypes_1 (025d4b11-4c50-4925-8ab1-8191b6551b13)>,\n",
      "            datatypes_n=[<TileTree: datatypes_n (8ead52f8-5abd-4f4b-b4a4-b2237d170bdc)>])\n"
     ]
    }
   ],
   "source": [
    "from pprint import pprint\n",
    "\n",
    "resource_with_data = ResourceTileTree.get_tiles(graph_slug=\"datatype_lookups\").exclude(number_alias=None).get()\n",
    "pprint(resource_with_data.aliased_data)\n",
    "# This resource has two top nodegroups: \"datatypes_1\" and \"datatypes_n\""
   ]
  },
  {
   "cell_type": "markdown",
   "id": "cdcb4c2f",
   "metadata": {},
   "source": [
    "Inspect each tile's `aliased_data`:"
   ]
  },
  {
   "cell_type": "code",
   "execution_count": 4,
   "id": "a08b1708",
   "metadata": {},
   "outputs": [
    {
     "name": "stdout",
     "output_type": "stream",
     "text": [
      "AliasedData(concept_alias=<Value: Value object (d8c60bf4-e786-11e6-905a-b756ec83dad5)>,\n",
      "            geojson_feature_collection_alias=None,\n",
      "            concept_list_alias=[<Value: Value object (d8c60bf4-e786-11e6-905a-b756ec83dad5)>],\n",
      "            number_alias=42,\n",
      "            resource_instance_alias=<ResourceInstance: Datatype Lookups: Resource referencing 42 (4d9cd2e0-1a08-4e8d-9606-58482c1f520a)>,\n",
      "            resource_instance_list_alias=[<ResourceInstance: Datatype Lookups: Resource referencing 42 (4d9cd2e0-1a08-4e8d-9606-58482c1f520a)>],\n",
      "            file_list_alias=[{'accepted': True,\n",
      "                              'altText': {'en': {'direction': 'ltr',\n",
      "                                                 'value': 'Illustration of '\n",
      "                                                          'recent '\n",
      "                                                          'accessibility '\n",
      "                                                          'improvements'}},\n",
      "                              'attribution': {'en': {'direction': 'ltr',\n",
      "                                                     'value': 'Arches'}},\n",
      "                              'content': 'blob:http://localhost:8000/0170084e-35ac-4680-8a5c-ec499bb0dc65',\n",
      "                              'description': {'en': {'direction': 'ltr',\n",
      "                                                     'value': 'Recent versions '\n",
      "                                                              'of arches have '\n",
      "                                                              '42 improved '\n",
      "                                                              'accessibility '\n",
      "                                                              'characteristics.'}},\n",
      "                              'file_id': '20bcd0d2-fa74-4595-b6f3-f4496a3a2f25',\n",
      "                              'height': 2042,\n",
      "                              'index': 0,\n",
      "                              'lastModified': 1723503486969,\n",
      "                              'name': '42_accessibility_improvements.png',\n",
      "                              'size': 2042,\n",
      "                              'status': 'added',\n",
      "                              'title': {'en': {'direction': 'ltr',\n",
      "                                               'value': '42 Accessibility '\n",
      "                                                        'Improvements'}},\n",
      "                              'type': 'image/png',\n",
      "                              'url': 'http://www.archesproject.org/blog/static/42.png',\n",
      "                              'width': 2042}],\n",
      "            date_alias='2042-04-02',\n",
      "            string_alias={'en': {'direction': 'ltr', 'value': 'forty-two'}},\n",
      "            domain_value_alias=None,\n",
      "            domain_value_list_alias=None,\n",
      "            boolean_alias=True,\n",
      "            annotation_alias=None,\n",
      "            edtf_alias=None,\n",
      "            url_alias={'url': 'http://www.42.com/', 'url_label': '42.com'},\n",
      "            non_localized_string_alias='forty-two',\n",
      "            node_value_alias='025d4b11-4c50-4925-8ab1-8191b6551b13',\n",
      "            datatypes_1_child=<TileTree: datatypes_1_child (fa193373-e971-4f1e-8adc-d92e6ea8fe85)>)\n",
      "AliasedData(concept_alias_n=<Value: Value object (d8c60bf4-e786-11e6-905a-b756ec83dad5)>,\n",
      "            geojson_feature_collection_alias_n=None,\n",
      "            concept_list_alias_n=[<Value: Value object (d8c60bf4-e786-11e6-905a-b756ec83dad5)>],\n",
      "            number_alias_n=42,\n",
      "            resource_instance_alias_n=<ResourceInstance: Datatype Lookups: Resource referencing 42 (4d9cd2e0-1a08-4e8d-9606-58482c1f520a)>,\n",
      "            resource_instance_list_alias_n=[<ResourceInstance: Datatype Lookups: Resource referencing 42 (4d9cd2e0-1a08-4e8d-9606-58482c1f520a)>],\n",
      "            file_list_alias_n=[{'accepted': True,\n",
      "                                'altText': {'en': {'direction': 'ltr',\n",
      "                                                   'value': 'Illustration of '\n",
      "                                                            'recent '\n",
      "                                                            'accessibility '\n",
      "                                                            'improvements'}},\n",
      "                                'attribution': {'en': {'direction': 'ltr',\n",
      "                                                       'value': 'Arches'}},\n",
      "                                'content': 'blob:http://localhost:8000/0170084e-35ac-4680-8a5c-ec499bb0dc65',\n",
      "                                'description': {'en': {'direction': 'ltr',\n",
      "                                                       'value': 'Recent '\n",
      "                                                                'versions of '\n",
      "                                                                'arches have '\n",
      "                                                                '42 improved '\n",
      "                                                                'accessibility '\n",
      "                                                                'characteristics.'}},\n",
      "                                'file_id': '20bcd0d2-fa74-4595-b6f3-f4496a3a2f25',\n",
      "                                'height': 2042,\n",
      "                                'index': 0,\n",
      "                                'lastModified': 1723503486969,\n",
      "                                'name': '42_accessibility_improvements.png',\n",
      "                                'size': 2042,\n",
      "                                'status': 'added',\n",
      "                                'title': {'en': {'direction': 'ltr',\n",
      "                                                 'value': '42 Accessibility '\n",
      "                                                          'Improvements'}},\n",
      "                                'type': 'image/png',\n",
      "                                'url': 'http://www.archesproject.org/blog/static/42.png',\n",
      "                                'width': 2042}],\n",
      "            date_alias_n='2042-04-02',\n",
      "            string_alias_n={'en': {'direction': 'ltr', 'value': 'forty-two'}},\n",
      "            domain_value_alias_n=None,\n",
      "            domain_value_list_alias_n=None,\n",
      "            boolean_alias_n=True,\n",
      "            annotation_alias_n=None,\n",
      "            edtf_alias_n=None,\n",
      "            url_alias_n={'url': 'http://www.42.com/', 'url_label': '42.com'},\n",
      "            non_localized_string_alias_n='forty-two',\n",
      "            node_value_alias_n='8ead52f8-5abd-4f4b-b4a4-b2237d170bdc',\n",
      "            datatypes_n_child=[<TileTree: datatypes_n_child (b5b4cb5a-8e28-4a15-ba2e-e6321da5e040)>])\n"
     ]
    }
   ],
   "source": [
    "pprint(resource_with_data.aliased_data.datatypes_1.aliased_data)\n",
    "pprint(resource_with_data.aliased_data.datatypes_n[0].aliased_data)"
   ]
  },
  {
   "cell_type": "markdown",
   "id": "19bad30a",
   "metadata": {},
   "source": [
    "Notice some node values are richer than the pure tile representation. For instance, this concept node value is a `Concept` instance rather than a `UUID`:"
   ]
  },
  {
   "cell_type": "code",
   "execution_count": 5,
   "id": "a624b1a3",
   "metadata": {},
   "outputs": [
    {
     "name": "stdout",
     "output_type": "stream",
     "text": [
      "Value object (d8c60bf4-e786-11e6-905a-b756ec83dad5)\n"
     ]
    }
   ],
   "source": [
    "print(resource_with_data.aliased_data.datatypes_1.aliased_data.concept_alias)"
   ]
  },
  {
   "cell_type": "markdown",
   "id": "3f6bc222",
   "metadata": {},
   "source": [
    "This happens because the `ConceptDataType` registered by arches-querysets in its `datatypes` directory has a `to_python()` method that is called when materializing the QuerySet. As a project implementer, you can register your own datatypes to provide similar functionality, e.g. to provide a `LocalizedString` class for string values.\n",
    "\n",
    "If you don't need these richer Python representations--perhaps because you simply care about the display value--pass `as_representation=False`, as the Django REST Framework (DRF) integration always does, to get the \"three-key\" object mentioned above:\n",
    "\n",
    "> [!NOTE]\n",
    "> Depending on the datatype, getting the representation instead of the python object may be more or less performant."
   ]
  },
  {
   "cell_type": "code",
   "execution_count": 6,
   "id": "bf386781",
   "metadata": {},
   "outputs": [
    {
     "name": "stdout",
     "output_type": "stream",
     "text": [
      "{'node_value': 'd8c60bf4-e786-11e6-905a-b756ec83dad5', 'display_value': 'Arches', 'details': [{'concept_id': '00000000-0000-0000-0000-000000000001', 'language_id': 'en', 'value': 'Arches', 'valueid': 'd8c60bf4-e786-11e6-905a-b756ec83dad5', 'valuetype_id': 'prefLabel'}]}\n"
     ]
    }
   ],
   "source": [
    "resource_as_repr = ResourceTileTree.get_tiles(\n",
    "    graph_slug=\"datatype_lookups\", as_representation=True\n",
    ").exclude(number_alias=None).get()\n",
    "\n",
    "print(resource_as_repr.aliased_data.datatypes_1.aliased_data.concept_alias)"
   ]
  },
  {
   "cell_type": "markdown",
   "id": "5bd7b609",
   "metadata": {},
   "source": [
    "#### Filtering\n",
    "\n",
    "`.get_tiles()` fetches node aliases for the requested graph, prepares ORM expressions for each one, and passes the expressions to [`QuerySet.alias()`](https://docs.djangoproject.com/en/5.2/ref/models/querysets/#alias) so that the node alias can be used like any standard Django field name.\n",
    "\n",
    ">[!NOTE]\n",
    "> `.alias()` is like `.annotate()`, but lazier: if you don't actually *use* the alias in a filter, order by, or aggregate, Django just drops the alias entirely instead of including it in the SQL.\n",
    "\n",
    ">[!NOTE]\n",
    "> Fetching node aliases for a graph is the only database query done inside `.get_tiles()`. If your code calls `.get_tiles()` multiple times, for better performance you can provide a QuerySet of nodes yourself via the `nodes` argument.\n",
    "\n",
    "Filter on the `string_alias` node, using [key and path transforms](https://docs.djangoproject.com/en/5.2/topics/db/queries/#key-index-and-path-transforms) to interrogate JSON values:"
   ]
  },
  {
   "cell_type": "code",
   "execution_count": 7,
   "id": "7c098fc8",
   "metadata": {},
   "outputs": [
    {
     "data": {
      "text/plain": [
       "{'en': {'value': 'forty-two', 'direction': 'ltr'}}"
      ]
     },
     "execution_count": 7,
     "metadata": {},
     "output_type": "execute_result"
    }
   ],
   "source": [
    "test_resources = ResourceTileTree.get_tiles(\"datatype_lookups\")\n",
    "resource = test_resources.filter(string_alias__en__value__startswith=\"forty\").first()\n",
    "resource.aliased_data.datatypes_1.aliased_data.string_alias"
   ]
  },
  {
   "cell_type": "markdown",
   "id": "c9c4e5ef",
   "metadata": {},
   "source": [
    "But what if you want a `startswith` search on a value in *any* language? arches-querysets registers additional datatype-specific lookups, such as `any_lang_startswith` for localized strings, that can be used with the Django `__` syntax for joining lookups:"
   ]
  },
  {
   "cell_type": "code",
   "execution_count": 8,
   "id": "b22dd87e",
   "metadata": {},
   "outputs": [
    {
     "data": {
      "text/plain": [
       "{'en': {'value': 'forty-two', 'direction': 'ltr'}}"
      ]
     },
     "execution_count": 8,
     "metadata": {},
     "output_type": "execute_result"
    }
   ],
   "source": [
    "resource = test_resources.filter(string_alias__any_lang_startswith=\"forty\").first()\n",
    "resource.aliased_data.datatypes_1.aliased_data.string_alias"
   ]
  },
  {
   "cell_type": "markdown",
   "id": "c13acaa0",
   "metadata": {},
   "source": [
    "The following custom lookups are available as of 96b8e802d367b53c786e2bc02fdd121835b5e008:\n",
    "\n",
    "\n",
    "String datatype (cardinality 1 & cardinality N):\n",
    "`any_lang_contains`\n",
    "`any_lang_icontains`\n",
    "`any_lang_startswith`\n",
    "`any_lang_istartswith`\n",
    "\n",
    "Cardinality-N non-localized-string:\n",
    "`any_contains`\n",
    "`any_icontains`\n",
    "\n",
    "Resource Instance datatype:\n",
    "`id`\n",
    "\n",
    "Cardinality-N resource instance:\n",
    "`ids_contain`\n",
    "\n",
    "Resource Instance list datatype:\n",
    "`contains`\n",
    "\n",
    "Cardinality-N resource instance list:\n",
    "`ids_contain`\n",
    "\n",
    ">[!NOTE]\n",
    "> Custom lookups are defined in `lookups.py` and tested in `test_lookups.py`."
   ]
  },
  {
   "cell_type": "markdown",
   "id": "fa0427ff",
   "metadata": {},
   "source": [
    "For resources, *shallow* queries on nodes for nested tiles are possible without needing to specify the parents:"
   ]
  },
  {
   "cell_type": "code",
   "execution_count": 9,
   "id": "f2e65bd5",
   "metadata": {},
   "outputs": [
    {
     "name": "stdout",
     "output_type": "stream",
     "text": [
      "child-1-value\n"
     ]
    }
   ],
   "source": [
    "resource = test_resources.filter(non_localized_string_alias_child__isnull=False).first()\n",
    "child_tile = resource.aliased_data.datatypes_1.aliased_data.datatypes_1_child\n",
    "print(child_tile.aliased_data.non_localized_string_alias_child)"
   ]
  },
  {
   "cell_type": "markdown",
   "id": "07379838",
   "metadata": {},
   "source": [
    "From there, you can backtrack to the parent:"
   ]
  },
  {
   "cell_type": "code",
   "execution_count": 10,
   "id": "5e11938d",
   "metadata": {},
   "outputs": [
    {
     "data": {
      "text/plain": [
       "<TileTree: datatypes_1 (025d4b11-4c50-4925-8ab1-8191b6551b13)>"
      ]
     },
     "execution_count": 10,
     "metadata": {},
     "output_type": "execute_result"
    }
   ],
   "source": [
    "child_tile.parent"
   ]
  },
  {
   "cell_type": "markdown",
   "id": "40576f93",
   "metadata": {},
   "source": [
    "#### Updating\n",
    "You can save back any value accepted by the datatype's `transform_value_for_tile()`:\n",
    "\n",
    "This example uses `.save(force_admin=True)` because without, `save()` falls back to the anonymous user, which lacks Resource Editor permissions. (The edits might seem to \"go missing\", but they actually end up in provisional edits.) In a request/response cycle, provide `user=request.user`. (The DRF API handles all this for you.)"
   ]
  },
  {
   "cell_type": "code",
   "execution_count": 11,
   "id": "109f66c0",
   "metadata": {},
   "outputs": [
    {
     "data": {
      "text/plain": [
       "{'en': {'value': 'forty-three', 'direction': 'ltr'}}"
      ]
     },
     "execution_count": 11,
     "metadata": {},
     "output_type": "execute_result"
    }
   ],
   "source": [
    "resource.aliased_data.datatypes_1.aliased_data.string_alias = 'forty-three'\n",
    "resource.save(force_admin=True)\n",
    "resource.aliased_data.datatypes_1.aliased_data.string_alias"
   ]
  },
  {
   "cell_type": "code",
   "execution_count": 12,
   "id": "6d6cf898",
   "metadata": {},
   "outputs": [
    {
     "data": {
      "text/plain": [
       "{'en': {'value': 'forty-four', 'direction': 'ltr'}}"
      ]
     },
     "execution_count": 12,
     "metadata": {},
     "output_type": "execute_result"
    }
   ],
   "source": [
    "resource.aliased_data.datatypes_1.aliased_data.string_alias = {'en': {'value': 'forty-four', 'direction': 'ltr'}}\n",
    "resource.save(force_admin=True)\n",
    "resource.aliased_data.datatypes_1.aliased_data.string_alias"
   ]
  },
  {
   "cell_type": "code",
   "execution_count": 13,
   "id": "12d87ba8",
   "metadata": {},
   "outputs": [
    {
     "data": {
      "text/plain": [
       "{'en': {'value': 'forty-five', 'direction': 'ltr'}}"
      ]
     },
     "execution_count": 13,
     "metadata": {},
     "output_type": "execute_result"
    }
   ],
   "source": [
    "resource.aliased_data.datatypes_1.aliased_data.string_alias = {\n",
    "    \"display_value\": \"\",  # ignored\n",
    "    \"node_value\": {'en': {'value': 'forty-five', 'direction': 'ltr'}},\n",
    "    \"details\": [],\n",
    "}\n",
    "resource.save(force_admin=True)\n",
    "resource.aliased_data.datatypes_1.aliased_data.string_alias"
   ]
  },
  {
   "cell_type": "markdown",
   "id": "490278e2",
   "metadata": {},
   "source": [
    "Those three calls were equivalent. This one fails, though:"
   ]
  },
  {
   "cell_type": "code",
   "execution_count": 16,
   "id": "65fff5b9",
   "metadata": {},
   "outputs": [],
   "source": [
    "resource.aliased_data.datatypes_1.aliased_data.string_alias = object()\n",
    "# uncomment to see failure\n",
    "# resource.save(force_admin=True)"
   ]
  },
  {
   "cell_type": "markdown",
   "id": "3c5cca0d",
   "metadata": {},
   "source": [
    "This is a drop-in replacement for `Resource` and `Tile` `save()` methods, so it performs side effects like indexing and writing to the edit log."
   ]
  },
  {
   "cell_type": "code",
   "execution_count": 17,
   "id": "1bc110c2",
   "metadata": {},
   "outputs": [
    {
     "data": {
      "text/plain": [
       "6"
      ]
     },
     "execution_count": 17,
     "metadata": {},
     "output_type": "execute_result"
    }
   ],
   "source": [
    "from arches.app.models.models import EditLog\n",
    "EditLog.objects.filter(resourceinstanceid=resource.pk).count()"
   ]
  },
  {
   "cell_type": "markdown",
   "id": "c4a0cf49",
   "metadata": {},
   "source": [
    "#### Tailoring the results\n",
    "\n",
    "Just like ordinary Django usage, you can avoid the overhead of instantiating model instances (and fetching graph objects to aid with display value calculations) by requesting just `.values()`:"
   ]
  },
  {
   "cell_type": "code",
   "execution_count": 42,
   "id": "69dad741",
   "metadata": {},
   "outputs": [
    {
     "name": "stdout",
     "output_type": "stream",
     "text": [
      "{'number_alias_n': 42.0, 'concept_list_alias_n': ['d8c60bf4-e786-11e6-905a-b756ec83dad5']}\n",
      "{'number_alias_n': None, 'concept_list_alias_n': None}\n"
     ]
    }
   ],
   "source": [
    "results = TileTree.objects.get_tiles(\n",
    "    \"datatype_lookups\", nodegroup_alias=\"datatypes_n\"\n",
    ").values(\"number_alias_n\", \"concept_list_alias_n\")\n",
    "for result in results:\n",
    "    print(result)"
   ]
  },
  {
   "cell_type": "markdown",
   "id": "b1e7b5c3",
   "metadata": {},
   "source": [
    "Aggregate functions from Django are available:"
   ]
  },
  {
   "cell_type": "code",
   "execution_count": 43,
   "id": "4b3cab4d",
   "metadata": {},
   "outputs": [
    {
     "data": {
      "text/plain": [
       "{'my_max': 42.0}"
      ]
     },
     "execution_count": 43,
     "metadata": {},
     "output_type": "execute_result"
    }
   ],
   "source": [
    "from django.db.models import Max\n",
    "TileTree.objects.get_tiles(\"datatype_lookups\", \"datatypes_1\").aggregate(my_max=Max(\"number_alias\"))"
   ]
  },
  {
   "cell_type": "markdown",
   "id": "3c6998b4",
   "metadata": {},
   "source": [
    "You can limit the depth of the child tiles that are fetched. The default is 20."
   ]
  },
  {
   "cell_type": "code",
   "execution_count": 44,
   "id": "82c05112",
   "metadata": {},
   "outputs": [
    {
     "name": "stdout",
     "output_type": "stream",
     "text": [
      "None\n"
     ]
    },
    {
     "data": {
      "text/plain": [
       "<TileTree: datatypes_1_child (fa193373-e971-4f1e-8adc-d92e6ea8fe85)>"
      ]
     },
     "execution_count": 44,
     "metadata": {},
     "output_type": "execute_result"
    }
   ],
   "source": [
    "resource = ResourceTileTree.objects.get_tiles(\"datatype_lookups\", depth=0).filter(number_alias=42).get()\n",
    "print(resource.aliased_data.datatypes_1.aliased_data.datatypes_1_child)\n",
    "\n",
    "resource = ResourceTileTree.objects.get_tiles(\"datatype_lookups\").filter(number_alias=42).get()\n",
    "resource.aliased_data.datatypes_1.aliased_data.datatypes_1_child\n"
   ]
  },
  {
   "cell_type": "markdown",
   "id": "0e96e606",
   "metadata": {},
   "source": [
    "# API Integration\n",
    "\n"
   ]
  }
 ],
 "metadata": {
  "kernelspec": {
   "display_name": "py313",
   "language": "python",
   "name": "python3"
  },
  "language_info": {
   "codemirror_mode": {
    "name": "ipython",
    "version": 3
   },
   "file_extension": ".py",
   "mimetype": "text/x-python",
   "name": "python",
   "nbconvert_exporter": "python",
   "pygments_lexer": "ipython3",
   "version": "3.13.5"
  }
 },
 "nbformat": 4,
 "nbformat_minor": 5
}
