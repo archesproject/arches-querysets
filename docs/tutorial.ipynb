{
 "cells": [
  {
   "cell_type": "code",
   "execution_count": 1,
   "id": "811ae4ec",
   "metadata": {},
   "outputs": [
    {
     "name": "stdout",
     "output_type": "stream",
     "text": [
      "Deleting test data...\n",
      "Finished!\n",
      "Creating test data...\n",
      "Finished!\n"
     ]
    }
   ],
   "source": [
    "import os\n",
    "\n",
    "import django\n",
    "from django.core.management import call_command\n",
    "\n",
    "# Simulate manage.py\n",
    "os.environ[\"DJANGO_SETTINGS_MODULE\"] = \"arches_querysets.settings\"\n",
    "os.environ[\"DJANGO_ALLOW_ASYNC_UNSAFE\"] = \"true\"\n",
    "django.setup()\n",
    "\n",
    "call_command(\"delete_test_data\")\n",
    "call_command(\"add_test_data\")"
   ]
  },
  {
   "cell_type": "code",
   "execution_count": 2,
   "id": "885342b8",
   "metadata": {},
   "outputs": [
    {
     "name": "stdout",
     "output_type": "stream",
     "text": [
      "AliasedData(datatypes_n=[<TileTree: datatypes_n (66cf8a82-e565-419f-9a93-f59037a7b633)>], datatypes_1=<TileTree: datatypes_1 (89d65daf-ab75-4def-be95-7a8262231f61)>)\n",
      "AliasedData(string={'en': {'value': 'forty-two', 'direction': 'ltr'}}, number=42, concept=<Value: Value object (d8c60bf4-e786-11e6-905a-b756ec83dad5)>, concept_list=[<Value: Value object (d8c60bf4-e786-11e6-905a-b756ec83dad5)>], date='2042-04-02', node_value='89d65daf-ab75-4def-be95-7a8262231f61', edtf=None, annotation=None, url={'url': 'http://www.42.com/', 'url_label': '42.com'}, resource_instance=<ResourceInstance: Datatype Lookups: Resource referencing 42 (e4e7f3a5-87a1-428d-8974-3ceccdbfe090)>, resource_instance_list=[<ResourceInstance: Datatype Lookups: Resource referencing 42 (e4e7f3a5-87a1-428d-8974-3ceccdbfe090)>], boolean=True, domain_value=None, domain_value_list=None, non_localized_string='forty-two', geojson_feature_collection=None, file_list=[{'url': 'http://www.archesproject.org/blog/static/42.png', 'name': '42_accessibility_improvements.png', 'size': 2042, 'type': 'image/png', 'index': 0, 'title': {'en': {'value': '42 Accessibility Improvements', 'direction': 'ltr'}}, 'width': 2042, 'height': 2042, 'status': 'added', 'altText': {'en': {'value': 'Illustration of recent accessibility improvements', 'direction': 'ltr'}}, 'content': 'blob:http://localhost:8000/cefed138-d3ab-47b1-a107-3d49728321d1', 'file_id': '493ded49-8983-4628-8b15-db112ce5773f', 'accepted': True, 'attribution': {'en': {'value': 'Arches', 'direction': 'ltr'}}, 'description': {'en': {'value': 'Recent versions of arches have 42 improved accessibility characteristics.', 'direction': 'ltr'}}, 'lastModified': 1723503486969}])\n"
     ]
    }
   ],
   "source": [
    "from arches_querysets.models import *\n",
    "\n",
    "resource = ResourceTileTree.get_tiles(graph_slug=\"datatype_lookups\").exclude(url=None).get()\n",
    "print(resource.aliased_data)\n",
    "print(resource.aliased_data.datatypes_1.aliased_data)"
   ]
  },
  {
   "cell_type": "code",
   "execution_count": 3,
   "id": "bf386781",
   "metadata": {},
   "outputs": [
    {
     "name": "stdout",
     "output_type": "stream",
     "text": [
      "AliasedData(datatypes_n=[<TileTree: datatypes_n (66cf8a82-e565-419f-9a93-f59037a7b633)>],\n",
      "            datatypes_1=<TileTree: datatypes_1 (89d65daf-ab75-4def-be95-7a8262231f61)>)\n",
      "AliasedData(string={'display_value': 'forty-two',\n",
      "                    'interchange_value': {'en': {'direction': 'ltr',\n",
      "                                                 'value': 'forty-two'}}},\n",
      "            number={'display_value': '42', 'interchange_value': 42},\n",
      "            concept={'display_value': 'Arches',\n",
      "                     'interchange_value': {'concept_id': '00000000-0000-0000-0000-000000000001',\n",
      "                                           'language_id': 'en',\n",
      "                                           'value': 'Arches',\n",
      "                                           'valueid': 'd8c60bf4-e786-11e6-905a-b756ec83dad5',\n",
      "                                           'valuetype_id': 'prefLabel'}},\n",
      "            concept_list={'display_value': 'Arches',\n",
      "                          'interchange_value': [{'concept_id': '00000000-0000-0000-0000-000000000001',\n",
      "                                                 'language_id': 'en',\n",
      "                                                 'value': 'Arches',\n",
      "                                                 'valueid': 'd8c60bf4-e786-11e6-905a-b756ec83dad5',\n",
      "                                                 'valuetype_id': 'prefLabel'}]},\n",
      "            date={'display_value': '2042-04-02',\n",
      "                  'interchange_value': '2042-04-02'},\n",
      "            node_value={'display_value': '2042-04-02',\n",
      "                        'interchange_value': '89d65daf-ab75-4def-be95-7a8262231f61'},\n",
      "            edtf={'display_value': '(Empty)', 'interchange_value': None},\n",
      "            annotation={'display_value': '(Empty)', 'interchange_value': None},\n",
      "            url={'display_value': '{\"url\": \"http://www.42.com/\", \"url_label\": '\n",
      "                                  '\"42.com\"}',\n",
      "                 'interchange_value': {'url': 'http://www.42.com/',\n",
      "                                       'url_label': '42.com'}},\n",
      "            resource_instance={'display_value': 'Resource referencing 42',\n",
      "                               'interchange_value': 'e4e7f3a5-87a1-428d-8974-3ceccdbfe090'},\n",
      "            resource_instance_list={'display_value': 'Resource referencing 42',\n",
      "                                    'interchange_value': [{'display_value': 'Resource '\n",
      "                                                                            'referencing '\n",
      "                                                                            '42',\n",
      "                                                           'resource_id': 'e4e7f3a5-87a1-428d-8974-3ceccdbfe090'}]},\n",
      "            boolean={'display_value': 'True', 'interchange_value': True},\n",
      "            domain_value={'display_value': '(Empty)',\n",
      "                          'interchange_value': None},\n",
      "            domain_value_list={'display_value': '(Empty)',\n",
      "                               'interchange_value': None},\n",
      "            non_localized_string={'display_value': 'forty-two',\n",
      "                                  'interchange_value': 'forty-two'},\n",
      "            geojson_feature_collection={'display_value': '(Empty)',\n",
      "                                        'interchange_value': None},\n",
      "            file_list={'display_value': 'http://www.archesproject.org/blog/static/42.png',\n",
      "                       'interchange_value': [{'accepted': True,\n",
      "                                              'altText': {'en': {'direction': 'ltr',\n",
      "                                                                 'value': 'Illustration '\n",
      "                                                                          'of '\n",
      "                                                                          'recent '\n",
      "                                                                          'accessibility '\n",
      "                                                                          'improvements'}},\n",
      "                                              'attribution': {'en': {'direction': 'ltr',\n",
      "                                                                     'value': 'Arches'}},\n",
      "                                              'content': 'blob:http://localhost:8000/cefed138-d3ab-47b1-a107-3d49728321d1',\n",
      "                                              'description': {'en': {'direction': 'ltr',\n",
      "                                                                     'value': 'Recent '\n",
      "                                                                              'versions '\n",
      "                                                                              'of '\n",
      "                                                                              'arches '\n",
      "                                                                              'have '\n",
      "                                                                              '42 '\n",
      "                                                                              'improved '\n",
      "                                                                              'accessibility '\n",
      "                                                                              'characteristics.'}},\n",
      "                                              'file_id': '493ded49-8983-4628-8b15-db112ce5773f',\n",
      "                                              'height': 2042,\n",
      "                                              'index': 0,\n",
      "                                              'lastModified': 1723503486969,\n",
      "                                              'name': '42_accessibility_improvements.png',\n",
      "                                              'size': 2042,\n",
      "                                              'status': 'added',\n",
      "                                              'title': {'en': {'direction': 'ltr',\n",
      "                                                               'value': '42 '\n",
      "                                                                        'Accessibility '\n",
      "                                                                        'Improvements'}},\n",
      "                                              'type': 'image/png',\n",
      "                                              'url': 'http://www.archesproject.org/blog/static/42.png',\n",
      "                                              'width': 2042}]})\n"
     ]
    }
   ],
   "source": [
    "resource = ResourceTileTree.get_tiles(\n",
    "    graph_slug=\"datatype_lookups\", as_representation=True\n",
    ").exclude(url=None).get()\n",
    "\n",
    "from pprint import pprint\n",
    "pprint(resource.aliased_data)\n",
    "pprint(resource.aliased_data.datatypes_1.aliased_data)"
   ]
  },
  {
   "cell_type": "code",
   "execution_count": 4,
   "id": "7c098fc8",
   "metadata": {},
   "outputs": [
    {
     "data": {
      "text/plain": [
       "{'display_value': 'forty-two',\n",
       " 'interchange_value': {'en': {'value': 'forty-two', 'direction': 'ltr'}}}"
      ]
     },
     "execution_count": 4,
     "metadata": {},
     "output_type": "execute_result"
    }
   ],
   "source": [
    "test_resources = ResourceTileTree.get_tiles(\"datatype_lookups\", as_representation=True)\n",
    "# This \"shallow\" lookup works whether or not the node is nested (todo: add test case)\n",
    "resource = test_resources.filter(string__any_lang_contains=\"forty\").first()\n",
    "resource.aliased_data.datatypes_1.aliased_data.string"
   ]
  },
  {
   "cell_type": "code",
   "execution_count": 5,
   "id": "109f66c0",
   "metadata": {},
   "outputs": [
    {
     "data": {
      "text/plain": [
       "{'2': {'value': {'0cc0fd4f-6654-435e-84c1-44422190b5d0': 'forty-two',\n",
       "   '3a3529cf-1ebc-4e8d-868a-d8bd21a37035': {'url': 'http://www.42.com/',\n",
       "    'url_label': '42.com'},\n",
       "   '585cbabb-7f5f-48a5-9848-8146b4bc7b7c': None,\n",
       "   '5d3c9c04-3d13-4cec-9040-c1b0c0d7a824': True,\n",
       "   '5ed5b53f-d5f8-4606-b526-eb5648b8092c': '2042-04-02T00:00:00.000-05:00',\n",
       "   '6551184b-e402-4fa3-a7a8-2f9131e74d9d': [{'resourceId': 'e4e7f3a5-87a1-428d-8974-3ceccdbfe090',\n",
       "     'ontologyProperty': '',\n",
       "     'resourceXresourceId': 'f0c4b152-a7d1-4f4e-94c9-790d2b99e617',\n",
       "     'inverseOntologyProperty': ''}],\n",
       "   '6dac34ea-129c-4fbe-a27a-6feaf37ac5d5': None,\n",
       "   '8028dc31-337a-43db-a1a8-4c2485b69ff8': [],\n",
       "   '840e508c-024e-443f-9cfb-940588ab74e8': '89d65daf-ab75-4def-be95-7a8262231f61',\n",
       "   '8db0bffa-f1af-408e-9d10-3191654665ab': None,\n",
       "   '911755aa-f1c7-41e1-ba2f-bb4b7dcea59d': [{'url': '/files/6a52ba13-e4d6-4d03-9886-4c3615a930b8',\n",
       "     'name': '42_accessibility_improvements.png',\n",
       "     'type': 'image/png',\n",
       "     'status': 'uploaded',\n",
       "     'file_id': '6a52ba13-e4d6-4d03-9886-4c3615a930b8',\n",
       "     'accepted': True,\n",
       "     'renderer': '5e05aa2e-5db0-4922-8938-b4d2b7919733'}],\n",
       "   '9fa731c6-72df-44f5-85ed-24d1d2487b33': 'd8c60bf4-e786-11e6-905a-b756ec83dad5',\n",
       "   'ae1e5e05-ff66-401c-a8ba-cea95d81f509': None,\n",
       "   'd7f9569c-71e3-4236-9047-f93ef6033e90': None,\n",
       "   'dbecf83a-d3b6-4708-9234-ec12a244eb74': [{'resourceId': 'e4e7f3a5-87a1-428d-8974-3ceccdbfe090',\n",
       "     'ontologyProperty': '',\n",
       "     'resourceXresourceId': '15d8f1d4-f835-42ce-a8ff-590c43c6901f',\n",
       "     'inverseOntologyProperty': ''}],\n",
       "   'f3333b4e-8286-4dcf-9ea7-fd7d4a303c5a': None,\n",
       "   'f9aafdc2-1628-47fb-a951-b5ac8881c2e9': 42,\n",
       "   'fd0a017f-2bee-4d3d-ab29-1aff0656c154': {'en': {'value': 'forty-three',\n",
       "     'direction': 'ltr'}}},\n",
       "  'action': 'create',\n",
       "  'status': 'review',\n",
       "  'reviewer': None,\n",
       "  'timestamp': '2025-07-09T20:20:54.976375Z',\n",
       "  'reviewtimestamp': None}}"
      ]
     },
     "execution_count": 5,
     "metadata": {},
     "output_type": "execute_result"
    }
   ],
   "source": [
    "# You can save back with or without the display value / interchange_value wrapper\n",
    "resource.aliased_data.datatypes_1.aliased_data.string = 'forty-three'\n",
    "resource.save()\n",
    "# But without a request, we assume anonymous user, and it ends up in provisional edits\n",
    "resource.aliased_data.datatypes_1.provisionaledits"
   ]
  },
  {
   "cell_type": "code",
   "execution_count": 6,
   "id": "12d87ba8",
   "metadata": {},
   "outputs": [
    {
     "data": {
      "text/plain": [
       "{'display_value': 'forty-three',\n",
       " 'interchange_value': {'en': {'value': 'forty-three', 'direction': 'ltr'}}}"
      ]
     },
     "execution_count": 6,
     "metadata": {},
     "output_type": "execute_result"
    }
   ],
   "source": [
    "resource.aliased_data.datatypes_1.aliased_data.string = 'forty-three'\n",
    "resource.save(force_admin=True)\n",
    "resource.aliased_data.datatypes_1.aliased_data.string"
   ]
  },
  {
   "cell_type": "code",
   "execution_count": 7,
   "id": "86c4700f",
   "metadata": {},
   "outputs": [
    {
     "name": "stdout",
     "output_type": "stream",
     "text": [
      "Datatype Lookups: Resource referencing 42 (e4e7f3a5-87a1-428d-8974-3ceccdbfe090)\n"
     ]
    }
   ],
   "source": [
    "# Custom lookups\n",
    "resources = ResourceTileTree.get_tiles(\n",
    "    \"datatype_lookups\", as_representation=True\n",
    ").filter(string__any_lang_contains=\"forty\")\n",
    "for match in resources:\n",
    "    print(match)"
   ]
  },
  {
   "cell_type": "code",
   "execution_count": 8,
   "id": "1330038a",
   "metadata": {},
   "outputs": [
    {
     "name": "stdout",
     "output_type": "stream",
     "text": [
      "Datatype Lookups: Resource referencing 42 (e4e7f3a5-87a1-428d-8974-3ceccdbfe090)\n"
     ]
    }
   ],
   "source": [
    "resources = ResourceTileTree.get_tiles(\n",
    "    \"datatype_lookups\", as_representation=True\n",
    ").filter(resource_instance_list__contains=str(resource.pk))\n",
    "for match in resources:\n",
    "    print(match)"
   ]
  }
 ],
 "metadata": {
  "kernelspec": {
   "display_name": "py313",
   "language": "python",
   "name": "python3"
  },
  "language_info": {
   "codemirror_mode": {
    "name": "ipython",
    "version": 3
   },
   "file_extension": ".py",
   "mimetype": "text/x-python",
   "name": "python",
   "nbconvert_exporter": "python",
   "pygments_lexer": "ipython3",
   "version": "3.13.1"
  }
 },
 "nbformat": 4,
 "nbformat_minor": 5
}
