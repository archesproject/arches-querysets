{
 "cells": [
  {
   "cell_type": "code",
   "execution_count": 1,
   "id": "811ae4ec",
   "metadata": {},
   "outputs": [
    {
     "name": "stdout",
     "output_type": "stream",
     "text": [
      "Creating test data...\n",
      "Finished!\n"
     ]
    }
   ],
   "source": [
    "import os\n",
    "\n",
    "import django\n",
    "from django.core.management import call_command\n",
    "\n",
    "# Simulate manage.py\n",
    "os.environ[\"DJANGO_SETTINGS_MODULE\"] = \"arches_querysets.settings\"\n",
    "os.environ[\"DJANGO_ALLOW_ASYNC_UNSAFE\"] = \"true\"\n",
    "django.setup()\n",
    "\n",
    "call_command(\"add_test_data\")"
   ]
  },
  {
   "cell_type": "code",
   "execution_count": null,
   "id": "885342b8",
   "metadata": {},
   "outputs": [],
   "source": [
    "from pprint import pprint\n",
    "\n",
    "from arches_querysets.models import *\n",
    "\n",
    "resource = ResourceTileTree.get_tiles(graph_slug=\"datatype_lookups\").exclude(url=None).get()\n",
    "pprint(resource.aliased_data)\n",
    "pprint(resource.aliased_data.datatypes_1.aliased_data)"
   ]
  },
  {
   "cell_type": "code",
   "execution_count": null,
   "id": "bf386781",
   "metadata": {},
   "outputs": [],
   "source": [
    "resource = ResourceTileTree.get_tiles(\n",
    "    graph_slug=\"datatype_lookups\", as_representation=True\n",
    ").exclude(url=None).get()\n",
    "pprint(resource.aliased_data)\n",
    "pprint(resource.aliased_data.datatypes_1.aliased_data)"
   ]
  },
  {
   "cell_type": "code",
   "execution_count": null,
   "id": "7c098fc8",
   "metadata": {},
   "outputs": [],
   "source": [
    "test_resources = ResourceTileTree.get_tiles(\"datatype_lookups\")\n",
    "# This \"shallow\" lookup works whether or not the node is nested (todo: add test case)\n",
    "resource = test_resources.filter(string__any_lang_contains=\"forty-two\").first()\n",
    "resource.aliased_data.datatypes_1.aliased_data.string"
   ]
  },
  {
   "cell_type": "code",
   "execution_count": null,
   "id": "109f66c0",
   "metadata": {},
   "outputs": [],
   "source": [
    "# You can save back with or without the display value / interchange_value wrapper\n",
    "resource.aliased_data.datatypes_1.aliased_data.string = 'forty-three'\n",
    "resource.save()\n",
    "# But without a request, we assume anonymous user, and it ends up in provisional edits\n",
    "resource.aliased_data.datatypes_1.provisionaledits"
   ]
  },
  {
   "cell_type": "code",
   "execution_count": null,
   "id": "12d87ba8",
   "metadata": {},
   "outputs": [],
   "source": [
    "resource.aliased_data.datatypes_1.aliased_data.string = 'forty-three'\n",
    "resource.save(force_admin=True)\n",
    "resource.aliased_data.datatypes_1.aliased_data.string"
   ]
  }
 ],
 "metadata": {
  "kernelspec": {
   "display_name": "py313",
   "language": "python",
   "name": "python3"
  },
  "language_info": {
   "codemirror_mode": {
    "name": "ipython",
    "version": 3
   },
   "file_extension": ".py",
   "mimetype": "text/x-python",
   "name": "python",
   "nbconvert_exporter": "python",
   "pygments_lexer": "ipython3",
   "version": "3.13.1"
  }
 },
 "nbformat": 4,
 "nbformat_minor": 5
}
